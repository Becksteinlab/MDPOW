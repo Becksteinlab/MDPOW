{
 "cells": [
  {
   "cell_type": "markdown",
   "metadata": {},
   "source": [
    "# Example: using a different force field\n",
    "\n",
    "Here we show how to use MDPOW to calculate partition coefficients using an force field that isn't included in the package. To follow along, install `jupyter` in your `mdpow` environment.\n",
    "\n",
    "To implement a new force field, you will need:\n",
    "\n",
    "* `ITP` files for the molecule, the solvents, ions and also the general atom type definitions file (usually just named after the force field itself).\n",
    "* `MDP` files for the energy minimisation, initial relaxation, NPT ensemble run and free energy calculation.\n",
    "* Structure files (`.gro` or `.pdb`) for the solute and non-aqueous solvent. If you are using a type of water that does not come bundled with GROMACS, like in this example, you will also need to create an equilibrated box of pure water.\n",
    "\n",
    "The first thing we'll do is to download the files we need for Martini 3.0."
   ]
  },
  {
   "cell_type": "code",
   "execution_count": 2,
   "metadata": {},
   "outputs": [],
   "source": [
    "from pathlib import Path\n",
    "from typing import Optional\n",
    "\n",
    "import requests as req\n",
    "from zipfile import ZipFile\n",
    "\n",
    "HERE = Path(\".\")\n",
    "\n",
    "MARTINI_ITP = HERE / \"martini_v3.0.0.itp\"\n",
    "MARTINI_IONS = HERE / \"martini_v3.0.0_ions_v1.itp\"\n",
    "MARTINI_SMALL_MOLS = HERE / \"martini_v3.0.0_small_molecules_v1.itp\"\n",
    "MARTINI_SOLVENTS = HERE / \"martini_v3.0.0_solvents_v1.itp\"\n",
    "MARTINI_WATER = HERE / \"water.gro\"\n",
    "MARTINI_OCTANOL = HERE / \"octanol.gro\"\n",
    "\n",
    "EM_FILE = HERE / \"em.mdp\"\n",
    "EQ_FILE = HERE / \"eq.mdp\"\n",
    "RUN_FILE = HERE / \"run.mdp\"\n",
    "\n",
    "def download_file(\n",
    "    url: str, out: Optional[Path] = None, chunk_size: int = 128, overwrite: bool = False\n",
    "):\n",
    "    \"\"\"Utility function to download files.\"\"\"\n",
    "    if out is None:\n",
    "        out = HERE / Path(url).name\n",
    "\n",
    "    if out.exists() and not overwrite:\n",
    "        return\n",
    "\n",
    "    r = req.get(url, stream=True)\n",
    "    r.raise_for_status()\n",
    "\n",
    "    with out.open(\"wb\") as f:\n",
    "        for chunk in r.iter_content(chunk_size=chunk_size):\n",
    "            f.write(chunk)\n",
    "\n",
    "\n",
    "ZIP_DOWNLOAD = {\n",
    "    HERE / \"BENZ.itp\": \"https://mad.ibcp.fr/api/molecule/download?id=731653322400583591&filename=BENZ.zip\"\n",
    "}\n",
    "DOWNLOADS = {\n",
    "    MARTINI_ITP: \"https://github.com/marrink-lab/martini-forcefields/blob/main/martini_forcefields/regular/v3.0.0/gmx_files/martini_v3.0.0.itp\",\n",
    "    MARTINI_IONS: \"https://github.com/marrink-lab/martini-forcefields/blob/main/martini_forcefields/regular/v3.0.0/gmx_files/martini_v3.0.0_ions_v1.itp\",\n",
    "    MARTINI_SMALL_MOLS: \"https://github.com/marrink-lab/martini-forcefields/blob/main/martini_forcefields/regular/v3.0.0/gmx_files/martini_v3.0.0_small_molecules_v1.itp\",\n",
    "    MARTINI_SOLVENTS: \"https://github.com/marrink-lab/martini-forcefields/blob/main/martini_forcefields/regular/v3.0.0/gmx_files/martini_v3.0.0_solvents_v1.itp\",\n",
    "}\n",
    "DOWNLOADS.update(ZIP_DOWNLOAD)\n",
    "\n",
    "for fname, url in DOWNLOADS.items():\n",
    "    download_file(url, fname)\n",
    "\n",
    "for zip_file in ZIP_DOWNLOAD.keys():\n",
    "    with ZipFile(zip_file, \"r\") as zip_ref:\n",
    "        zip_ref.extractall(HERE)"
   ]
  },
  {
   "cell_type": "markdown",
   "metadata": {},
   "source": [
    "This should have downloaded several files to your workspace."
   ]
  },
  {
   "cell_type": "code",
   "execution_count": null,
   "metadata": {},
   "outputs": [],
   "source": [
    "import gromacs\n",
    "from mdpow import equil, forcefields, fep"
   ]
  }
 ],
 "metadata": {
  "kernelspec": {
   "display_name": "mdpow",
   "language": "python",
   "name": "python3"
  },
  "language_info": {
   "codemirror_mode": {
    "name": "ipython",
    "version": 3
   },
   "file_extension": ".py",
   "mimetype": "text/x-python",
   "name": "python",
   "nbconvert_exporter": "python",
   "pygments_lexer": "ipython3",
   "version": "3.11.4"
  },
  "orig_nbformat": 4
 },
 "nbformat": 4,
 "nbformat_minor": 2
}
