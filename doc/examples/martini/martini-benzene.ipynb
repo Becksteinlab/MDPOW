{
 "cells": [
  {
   "cell_type": "markdown",
   "metadata": {},
   "source": [
    "# Example: using a different force field\n",
    "\n",
    "Here we show how to use MDPOW to calculate partition coefficients using an force field that isn't included in the package. To follow along, install `jupyter` in your `mdpow` environment.\n",
    "\n",
    "To implement a new force field, you will need:\n",
    "\n",
    "* `ITP` files for the molecule, the solvents, ions and also the general atom type definitions file (usually just named after the force field itself).\n",
    "* `MDP` files for the energy minimisation, initial relaxation, NPT ensemble run and free energy calculation.\n",
    "* Structure files (`.gro` or `.pdb`) for the solute and non-aqueous solvent. If you are using a type of water that does not come bundled with GROMACS, like in this example, you will also need to create an equilibrated box of pure water.\n",
    "\n",
    "The first thing we'll do is to download the files we need for Martini 3.0."
   ]
  },
  {
   "cell_type": "code",
   "execution_count": 1,
   "metadata": {},
   "outputs": [],
   "source": [
    "from pathlib import Path\n",
    "from typing import Optional\n",
    "\n",
    "import requests as req\n",
    "from zipfile import ZipFile\n",
    "\n",
    "\n",
    "HERE = Path(\".\")\n",
    "MARTINI_FF = HERE / \"martini.ff\"\n",
    "\n",
    "MARTINI_ITP = MARTINI_FF / \"forcefield.itp\"\n",
    "MARTINI_IONS = MARTINI_FF / \"martini_v3.0.0_ions_v1.itp\"\n",
    "MARTINI_SMALL_MOLS = MARTINI_FF / \"martini_v3.0.0_small_molecules_v1.itp\"\n",
    "MARTINI_SOLVENTS = MARTINI_FF / \"martini_v3.0.0_solvents_v1.itp\"\n",
    "BENZENE_ITP = MARTINI_FF / \"BENZ.itp\"\n",
    "\n",
    "MARTINI_WATER = HERE / \"water.gro\"\n",
    "MARTINI_OCTANOL = HERE / \"octanol.gro\"\n",
    "MARTINI_BENZENE = MARTINI_FF / \"output-conect.pdb\"\n",
    "\n",
    "EM_FILE = MARTINI_FF / \"em.mdp\"\n",
    "EQ_FILE = MARTINI_FF / \"eq.mdp\"\n",
    "RUN_FILE = MARTINI_FF / \"run.mdp\"\n",
    "\n",
    "\n",
    "def download_file(\n",
    "    url: str, out: Optional[Path] = None, chunk_size: int = 128, overwrite: bool = False\n",
    "):\n",
    "    \"\"\"Utility function to download files.\"\"\"\n",
    "    if out is None:\n",
    "        out = HERE / Path(url).name\n",
    "\n",
    "    if out.exists() and not overwrite:\n",
    "        return\n",
    "\n",
    "    r = req.get(url, stream=True)\n",
    "    r.raise_for_status()\n",
    "\n",
    "    with out.open(\"wb\") as f:\n",
    "        for chunk in r.iter_content(chunk_size=chunk_size):\n",
    "            f.write(chunk)\n",
    "\n",
    "\n",
    "ZIP_DOWNLOAD = {\n",
    "    HERE\n",
    "    / \"BENZ.itp\": \"https://mad.ibcp.fr/api/molecule/download?id=731653322400583591&filename=BENZ.zip\"\n",
    "}\n",
    "DOWNLOADS = {\n",
    "    MARTINI_ITP: \"https://raw.githubusercontent.com/marrink-lab/martini-forcefields/main/martini_forcefields/regular/v3.0.0/gmx_files/martini_v3.0.0.itp\",\n",
    "    MARTINI_IONS: \"https://raw.githubusercontent.com/marrink-lab/martini-forcefields/main/martini_forcefields/regular/v3.0.0/gmx_files/martini_v3.0.0_ions_v1.itp\",\n",
    "    MARTINI_SMALL_MOLS: \"https://raw.githubusercontent.com/marrink-lab/martini-forcefields/main/martini_forcefields/regular/v3.0.0/gmx_files/martini_v3.0.0_small_molecules_v1.itp\",\n",
    "    MARTINI_SOLVENTS: \"https://raw.githubusercontent.com/marrink-lab/martini-forcefields/main/martini_forcefields/regular/v3.0.0/gmx_files/martini_v3.0.0_solvents_v1.itp\",\n",
    "}\n",
    "DOWNLOADS.update(ZIP_DOWNLOAD)\n",
    "\n",
    "for fname, url in DOWNLOADS.items():\n",
    "    download_file(url, fname)\n",
    "\n",
    "for zip_file in ZIP_DOWNLOAD.keys():\n",
    "    with ZipFile(zip_file, \"r\") as zip_ref:\n",
    "        zip_ref.extractall(MARTINI_FF)"
   ]
  },
  {
   "cell_type": "markdown",
   "metadata": {},
   "source": [
    "This should have downloaded several files to your workspace.\n",
    "\n",
    "We also need to make a `watermodels.dat` file in the `martini.ff` subdirectory.\n"
   ]
  },
  {
   "cell_type": "code",
   "execution_count": 2,
   "metadata": {},
   "outputs": [
    {
     "data": {
      "text/plain": [
       "56"
      ]
     },
     "execution_count": 2,
     "metadata": {},
     "output_type": "execute_result"
    }
   ],
   "source": [
    "WATERMODEL_DAT = MARTINI_FF / \"watermodels.dat\"\n",
    "\n",
    "WATERMODEL_DAT.write_text(\"martini-water\\tMARTINI-WATER\\tMartini default water model.\")"
   ]
  },
  {
   "cell_type": "markdown",
   "metadata": {},
   "source": [
    "Next, we set up the files for the Martini 3.0 forcefield."
   ]
  },
  {
   "cell_type": "code",
   "execution_count": 11,
   "metadata": {},
   "outputs": [],
   "source": [
    "from mdpow.forcefields import Forcefield, GromacsSolventModel\n",
    "\n",
    "MARTINI = Forcefield(\n",
    "    \"Martini\",\n",
    "    solvent_models={\n",
    "        \"water\": GromacsSolventModel(\n",
    "            identifier=\"martini-water\",\n",
    "            itp=MARTINI_SOLVENTS.absolute(),\n",
    "            coordinates=MARTINI_WATER.absolute(),\n",
    "            forcefield=\"Martini\",\n",
    "        ),\n",
    "        \"octanol\": GromacsSolventModel(\n",
    "            identifier=\"octanol\",\n",
    "            itp=MARTINI_SOLVENTS.absolute(),\n",
    "            coordinates=MARTINI_OCTANOL.absolute(),\n",
    "            forcefield=\"Martini\",\n",
    "        ),\n",
    "    },\n",
    "    forcefield_dir=MARTINI_FF.absolute(),\n",
    "    ions_itp=MARTINI_IONS.absolute(),\n",
    "    default_water_itp=MARTINI_SOLVENTS.absolute(),\n",
    "    default_water_model=\"martini-water\",\n",
    ")"
   ]
  },
  {
   "cell_type": "code",
   "execution_count": 12,
   "metadata": {},
   "outputs": [
    {
     "name": "stdout",
     "output_type": "stream",
     "text": [
      "water\n",
      "<MARTINI-WATER water: identifier=martini-water, ff=Martini>\n",
      "octanol\n",
      "<OCTANOL water: identifier=octanol, ff=Martini>\n"
     ]
    }
   ],
   "source": [
    "from dataclasses import asdict\n",
    "\n",
    "for solvent_name, solvent_model in MARTINI.solvent_models.items():\n",
    "    print(solvent_name)\n",
    "    print(solvent_model)"
   ]
  },
  {
   "cell_type": "code",
   "execution_count": 6,
   "metadata": {},
   "outputs": [
    {
     "name": "stderr",
     "output_type": "stream",
     "text": [
      "mdpow.equil : INFO     [/home/awsm/MDPOW/doc/examples/martini/Equilibrium/water/top] Created topology 'system.top' that includes 'BENZ.itp'\n"
     ]
    },
    {
     "name": "stdout",
     "output_type": "stream",
     "text": [
      "{'itp': 'martini-water.itp', 'box': 'martini-water.gro', 'distance': 1.0}\n"
     ]
    }
   ],
   "source": [
    "from mdpow.equil import WaterSimulation\n",
    "\n",
    "sim = WaterSimulation(molecule=\"BENZ\", ff_class=MARTINI)\n",
    "sim.topology(str(BENZENE_ITP))\n",
    "print(sim.solvent)\n",
    "# sim.solvate(struct=MARTINI_BENZENE)\n",
    "# sim.energy_minimize()\n",
    "# sim.MD_relaxed(runtime=5)  # should be at least 1e3 ps for production not just 5 ps"
   ]
  },
  {
   "cell_type": "code",
   "execution_count": null,
   "metadata": {},
   "outputs": [],
   "source": [
    "\n",
    "# run simulation externally or use MDrunner\n",
    "# (see docs for using mpi etc)\n",
    "import gromacs\n",
    "\n",
    "r = gromacs.run.MDrunner(\n",
    "    dirname=sim.dirs[\"MD_relaxed\"],\n",
    "    deffnm=\"md\",\n",
    "    c=\"md.pdb\",\n",
    "    cpi=True,\n",
    "    append=True,\n",
    "    v=True,\n",
    ")\n",
    "r.run()  # runs mdrun in the python shell\n",
    "\n",
    "\n",
    "sim.MD(\n",
    "    runtime=10, qscript=[\"local.sh\"]\n",
    ")  # should be at least 10e3 ps for production, not just 10 ps\n",
    "# run simulation\n",
    "r = gromacs.run.MDrunner(\n",
    "    dirname=sim.dirs[\"MD_NPT\"], deffnm=\"md\", c=\"md.pdb\", cpi=True, append=True, v=True\n",
    ")\n",
    "r.run()  # runs mdrun in the python shell\n",
    "\n",
    "\n",
    "import mdpow.fep\n",
    "\n",
    "gwat = mdpow.fep.Ghyd(simulation=sim, runtime=10)\n",
    "gwat.setup()\n",
    "\n",
    "# run multiple simulations on cluster\n",
    "\n",
    "\n",
    "O = mdpow.equil.OctanolSimulation(molecule=\"BNZ\")\n",
    "O.topology(\"benzene.itp\")\n",
    "O.solvate(struct=\"benzene.pdb\")\n",
    "O.energy_minimize()\n",
    "O.MD_relaxed(runtime=0.5)"
   ]
  }
 ],
 "metadata": {
  "kernelspec": {
   "display_name": "mdpow",
   "language": "python",
   "name": "python3"
  },
  "language_info": {
   "codemirror_mode": {
    "name": "ipython",
    "version": 3
   },
   "file_extension": ".py",
   "mimetype": "text/x-python",
   "name": "python",
   "nbconvert_exporter": "python",
   "pygments_lexer": "ipython3",
   "version": "3.11.5"
  },
  "orig_nbformat": 4
 },
 "nbformat": 4,
 "nbformat_minor": 2
}
